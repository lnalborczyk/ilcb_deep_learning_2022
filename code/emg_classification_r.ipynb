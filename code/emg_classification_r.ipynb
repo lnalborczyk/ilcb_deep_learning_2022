{
  "nbformat": 4,
  "nbformat_minor": 0,
  "metadata": {
    "colab": {
      "name": "emg_classification_r.ipynb",
      "provenance": [],
      "collapsed_sections": [],
      "include_colab_link": true
    },
    "kernelspec": {
      "name": "ir",
      "display_name": "R"
    },
    "language_info": {
      "name": "R"
    }
  },
  "cells": [
    {
      "cell_type": "markdown",
      "metadata": {
        "id": "view-in-github",
        "colab_type": "text"
      },
      "source": [
        "<a href=\"https://colab.research.google.com/github/lnalborczyk/ilcb_deep_learning_2022/blob/master/code/emg_classification_r.ipynb\" target=\"_parent\"><img src=\"https://colab.research.google.com/assets/colab-badge.svg\" alt=\"Open In Colab\"/></a>"
      ]
    },
    {
      "cell_type": "markdown",
      "source": [
        "# Classifying surface EMG signals using 1D convolutionnal neural networks\n",
        "\n",
        "Written by Ladislas Nalborczyk (LPC, LNC, CNRS, AMU). Last updated on February 22, 2022."
      ],
      "metadata": {
        "id": "8-wdszXPFGRP"
      }
    },
    {
      "cell_type": "markdown",
      "source": [
        "# New section"
      ],
      "metadata": {
        "id": "FRP80tJGtVKB"
      }
    },
    {
      "cell_type": "code",
      "source": [
        "# installing tensorflow\n",
        "install.packages(\"tensorflow\")\n",
        "library(tensorflow)\n",
        "# install_tensorflow()\n",
        "\n",
        "# installing keras\n",
        "install.packages(\"keras\")\n",
        "library(keras)\n",
        "# install_keras()\n",
        "\n",
        "# loading the tidyverse package (data wrangling and plotting)\n",
        "library(tidyverse)"
      ],
      "metadata": {
        "colab": {
          "base_uri": "https://localhost:8080/"
        },
        "id": "h52Ud7HxEiw9",
        "outputId": "8134822c-c294-4871-8c44-2805aa266049"
      },
      "execution_count": 1,
      "outputs": [
        {
          "output_type": "stream",
          "name": "stderr",
          "text": [
            "Installing package into ‘/usr/local/lib/R/site-library’\n",
            "(as ‘lib’ is unspecified)\n",
            "\n",
            "also installing the dependencies ‘RcppTOML’, ‘here’, ‘png’, ‘config’, ‘reticulate’, ‘tfruns’, ‘tfautograph’\n",
            "\n",
            "\n",
            "Installing package into ‘/usr/local/lib/R/site-library’\n",
            "(as ‘lib’ is unspecified)\n",
            "\n",
            "also installing the dependency ‘zeallot’\n",
            "\n",
            "\n",
            "Warning message in system(\"timedatectl\", intern = TRUE):\n",
            "“running command 'timedatectl' had status 1”\n",
            "── \u001b[1mAttaching packages\u001b[22m ─────────────────────────────────────── tidyverse 1.3.1 ──\n",
            "\n",
            "\u001b[32m✔\u001b[39m \u001b[34mggplot2\u001b[39m 3.3.5     \u001b[32m✔\u001b[39m \u001b[34mpurrr  \u001b[39m 0.3.4\n",
            "\u001b[32m✔\u001b[39m \u001b[34mtibble \u001b[39m 3.1.6     \u001b[32m✔\u001b[39m \u001b[34mdplyr  \u001b[39m 1.0.8\n",
            "\u001b[32m✔\u001b[39m \u001b[34mtidyr  \u001b[39m 1.2.0     \u001b[32m✔\u001b[39m \u001b[34mstringr\u001b[39m 1.4.0\n",
            "\u001b[32m✔\u001b[39m \u001b[34mreadr  \u001b[39m 2.1.2     \u001b[32m✔\u001b[39m \u001b[34mforcats\u001b[39m 0.5.1\n",
            "\n",
            "── \u001b[1mConflicts\u001b[22m ────────────────────────────────────────── tidyverse_conflicts() ──\n",
            "\u001b[31m✖\u001b[39m \u001b[34mdplyr\u001b[39m::\u001b[32mfilter()\u001b[39m masks \u001b[34mstats\u001b[39m::filter()\n",
            "\u001b[31m✖\u001b[39m \u001b[34mdplyr\u001b[39m::\u001b[32mlag()\u001b[39m    masks \u001b[34mstats\u001b[39m::lag()\n",
            "\n"
          ]
        }
      ]
    },
    {
      "cell_type": "code",
      "source": [
        "system(\"git clone https://github.com/lnalborczyk/ilcb_deep_learning_2022.git\", intern=TRUE)"
      ],
      "metadata": {
        "id": "6ar-hUIIvZoF",
        "outputId": "99c1758f-4c45-4c3c-9b22-cf6a62bfe311",
        "colab": {
          "base_uri": "https://localhost:8080/",
          "height": 17
        }
      },
      "execution_count": 9,
      "outputs": [
        {
          "output_type": "display_data",
          "data": {
            "text/plain": [
              "character(0)"
            ],
            "text/latex": "",
            "text/markdown": "",
            "text/html": [
              ""
            ]
          },
          "metadata": {}
        }
      ]
    },
    {
      "cell_type": "code",
      "source": [
        "# loading input features\n",
        "x_reshaped <- readRDS(\"/content/ilcb_deep_learning_2022/data/x.rds\")"
      ],
      "metadata": {
        "id": "DsKbqsduvwPX"
      },
      "execution_count": 13,
      "outputs": []
    },
    {
      "cell_type": "code",
      "source": [
        "# (6 reps x 20 words x 22 participants) x 1 sec x 2 muscles\n",
        "dim(x_reshaped)"
      ],
      "metadata": {
        "id": "i1jpzi2SwF1p",
        "outputId": "c773de83-2727-4c3b-b589-3d878ff947ef",
        "colab": {
          "base_uri": "https://localhost:8080/",
          "height": 34
        }
      },
      "execution_count": 14,
      "outputs": [
        {
          "output_type": "display_data",
          "data": {
            "text/plain": [
              "[1] 2640 1000    2"
            ],
            "text/latex": "\\begin{enumerate*}\n\\item 2640\n\\item 1000\n\\item 2\n\\end{enumerate*}\n",
            "text/markdown": "1. 2640\n2. 1000\n3. 2\n\n\n",
            "text/html": [
              "<style>\n",
              ".list-inline {list-style: none; margin:0; padding: 0}\n",
              ".list-inline>li {display: inline-block}\n",
              ".list-inline>li:not(:last-child)::after {content: \"\\00b7\"; padding: 0 .5ex}\n",
              "</style>\n",
              "<ol class=list-inline><li>2640</li><li>1000</li><li>2</li></ol>\n"
            ]
          },
          "metadata": {}
        }
      ]
    },
    {
      "cell_type": "code",
      "source": [
        "# loading labels\n",
        "y <- readRDS(\"/content/ilcb_deep_learning_2022/data/y.rds\")"
      ],
      "metadata": {
        "id": "0lXGkyViHdJM"
      },
      "execution_count": 15,
      "outputs": []
    },
    {
      "cell_type": "code",
      "source": [
        "# 6 reps x 20 words x 22 participants\n",
        "length(y)"
      ],
      "metadata": {
        "id": "B2R57ak-yp9J",
        "outputId": "42fb81ce-5716-46b1-8188-593caeee491e",
        "colab": {
          "base_uri": "https://localhost:8080/",
          "height": 34
        }
      },
      "execution_count": 16,
      "outputs": [
        {
          "output_type": "display_data",
          "data": {
            "text/plain": [
              "[1] 2640"
            ],
            "text/latex": "2640",
            "text/markdown": "2640",
            "text/html": [
              "2640"
            ]
          },
          "metadata": {}
        }
      ]
    },
    {
      "cell_type": "code",
      "source": [
        "# train/test split (80%)\n",
        "b <- 0.8 * nrow(x_reshaped)\n",
        "x_train <- x_reshaped[1:b, , ]\n",
        "x_test <- x_reshaped[(b + 1):nrow(x_reshaped), , ]\n",
        "c(dim(x_train), dim(x_test) )"
      ],
      "metadata": {
        "id": "F2otqCb0ysDF",
        "outputId": "16812708-7605-4ad1-c110-a95aeeb998de",
        "colab": {
          "base_uri": "https://localhost:8080/",
          "height": 34
        }
      },
      "execution_count": 17,
      "outputs": [
        {
          "output_type": "display_data",
          "data": {
            "text/plain": [
              "[1] 2112 1000    2  528 1000    2"
            ],
            "text/latex": "\\begin{enumerate*}\n\\item 2112\n\\item 1000\n\\item 2\n\\item 528\n\\item 1000\n\\item 2\n\\end{enumerate*}\n",
            "text/markdown": "1. 2112\n2. 1000\n3. 2\n4. 528\n5. 1000\n6. 2\n\n\n",
            "text/html": [
              "<style>\n",
              ".list-inline {list-style: none; margin:0; padding: 0}\n",
              ".list-inline>li {display: inline-block}\n",
              ".list-inline>li:not(:last-child)::after {content: \"\\00b7\"; padding: 0 .5ex}\n",
              "</style>\n",
              "<ol class=list-inline><li>2112</li><li>1000</li><li>2</li><li>528</li><li>1000</li><li>2</li></ol>\n"
            ]
          },
          "metadata": {}
        }
      ]
    },
    {
      "cell_type": "code",
      "source": [
        "# dummy encoding of labels\n",
        "num_classes <- n_distinct(y) %>% as.numeric\n",
        "y_categ <- to_categorical(y = y, num_classes = num_classes)"
      ],
      "metadata": {
        "id": "cl0ALUuMyuAY",
        "outputId": "8712fe40-d9e4-4726-c024-f66f68ae50e9",
        "colab": {
          "base_uri": "https://localhost:8080/"
        }
      },
      "execution_count": 18,
      "outputs": [
        {
          "output_type": "stream",
          "name": "stderr",
          "text": [
            "Loaded Tensorflow version 2.8.0\n",
            "\n"
          ]
        }
      ]
    },
    {
      "cell_type": "code",
      "source": [
        "# train/test split\n",
        "y_train <- y_categ[1:b, ]\n",
        "y_test <- y_categ[(b + 1):nrow(y_categ), ]"
      ],
      "metadata": {
        "id": "IYmKz9Zxyv3D"
      },
      "execution_count": 19,
      "outputs": []
    },
    {
      "cell_type": "code",
      "source": [
        "# input_shape should be [samples, time_steps, features]\n",
        "model <- keras_model_sequential()"
      ],
      "metadata": {
        "id": "8jdPrqaHyxvh"
      },
      "execution_count": 20,
      "outputs": []
    },
    {
      "cell_type": "code",
      "source": [
        "model %>%\n",
        "    layer_conv_1d(\n",
        "        filters = 40, kernel_size = 10, strides = 2,\n",
        "        padding = \"same\", activation = \"relu\",\n",
        "        input_shape = c(dim(x_reshaped)[2], dim(x_reshaped)[3])\n",
        "        ) %>%\n",
        "    layer_dropout(rate = 0.2) %>%\n",
        "    layer_max_pooling_1d(pool_size = 3) %>%\n",
        "    layer_conv_1d(\n",
        "        filters = 32, kernel_size = 5, strides = 2,\n",
        "        padding = \"same\", activation = \"relu\"\n",
        "        ) %>%\n",
        "    layer_dropout(rate = 0.2) %>%\n",
        "    layer_max_pooling_1d(pool_size = 3) %>%\n",
        "    layer_global_max_pooling_1d() %>%\n",
        "    layer_dense(units = 64, activation = \"relu\") %>%\n",
        "    layer_dropout(rate = 0.3) %>% \n",
        "    layer_dense(units = num_classes, activation = \"softmax\")\n",
        "\n",
        "summary(model)"
      ],
      "metadata": {
        "id": "nfL6AGdSyzZa",
        "outputId": "30d8f65a-16e9-4627-dbbd-cc80475ef987",
        "colab": {
          "base_uri": "https://localhost:8080/"
        }
      },
      "execution_count": 21,
      "outputs": [
        {
          "output_type": "stream",
          "name": "stdout",
          "text": [
            "Model: \"sequential\"\n",
            "________________________________________________________________________________\n",
            " Layer (type)                       Output Shape                    Param #     \n",
            "================================================================================\n",
            " conv1d_1 (Conv1D)                  (None, 500, 40)                 840         \n",
            "                                                                                \n",
            " dropout_2 (Dropout)                (None, 500, 40)                 0           \n",
            "                                                                                \n",
            " max_pooling1d_1 (MaxPooling1D)     (None, 166, 40)                 0           \n",
            "                                                                                \n",
            " conv1d (Conv1D)                    (None, 83, 32)                  6432        \n",
            "                                                                                \n",
            " dropout_1 (Dropout)                (None, 83, 32)                  0           \n",
            "                                                                                \n",
            " max_pooling1d (MaxPooling1D)       (None, 27, 32)                  0           \n",
            "                                                                                \n",
            " global_max_pooling1d (GlobalMaxPoo  (None, 32)                     0           \n",
            " ling1D)                                                                        \n",
            "                                                                                \n",
            " dense_1 (Dense)                    (None, 64)                      2112        \n",
            "                                                                                \n",
            " dropout (Dropout)                  (None, 64)                      0           \n",
            "                                                                                \n",
            " dense (Dense)                      (None, 2)                       130         \n",
            "                                                                                \n",
            "================================================================================\n",
            "Total params: 9,514\n",
            "Trainable params: 9,514\n",
            "Non-trainable params: 0\n",
            "________________________________________________________________________________\n"
          ]
        }
      ]
    },
    {
      "cell_type": "code",
      "source": [
        "model %>%\n",
        "    compile(\n",
        "        loss = \"categorical_crossentropy\",\n",
        "        optimizer = \"adam\",\n",
        "        metrics = c(\"accuracy\") # could be \"binary_accuracy\" or \"categorical_accuracy\"\n",
        "        )"
      ],
      "metadata": {
        "id": "yXEhiCQcy1la"
      },
      "execution_count": 22,
      "outputs": []
    },
    {
      "cell_type": "code",
      "source": [
        "history <- model %>%\n",
        "    fit(\n",
        "        x_train, y_train,\n",
        "        epochs = 20,\n",
        "        batch_size = 10,\n",
        "        validation_split = 0.2\n",
        "        # callbacks = list(\n",
        "        #     callback_early_stopping(monitor = \"val_loss\", patience = 10, verbose = 1)\n",
        "        #     )\n",
        "        )"
      ],
      "metadata": {
        "id": "hSAJi6xty7Vc"
      },
      "execution_count": 23,
      "outputs": []
    },
    {
      "cell_type": "code",
      "source": [
        "# validation accuracy is around 75% just using the OOI...\n",
        "# validation accuracy is around 80% when using both the OOI and the ZYG...\n",
        "# validation accuracy is around 80% when using all four facial muscles (OOI, ZYG, COR, FRO)...\n",
        "# NB: it was 0.848 [0.816, 0.877] using random forest and all four facial muscles...\n",
        "\n",
        "# plots evolution of accuracy and loss (categorical cross-entropy)"
      ],
      "metadata": {
        "id": "tk1bV1sAy9Ga"
      },
      "execution_count": 25,
      "outputs": []
    },
    {
      "cell_type": "code",
      "source": [
        "plot(history)"
      ],
      "metadata": {
        "id": "x3M_ZMslzG2f",
        "outputId": "c0499d28-91d3-4f94-918f-e912974628e7",
        "colab": {
          "base_uri": "https://localhost:8080/",
          "height": 471
        }
      },
      "execution_count": 24,
      "outputs": [
        {
          "output_type": "stream",
          "name": "stderr",
          "text": [
            "`geom_smooth()` using formula 'y ~ x'\n",
            "\n"
          ]
        },
        {
          "output_type": "display_data",
          "data": {
            "image/png": "[encoded data removed]",
            "text/plain": [
              "plot without title"
            ]
          },
          "metadata": {
            "image/png": {
              "width": 420,
              "height": 420
            }
          }
        }
      ]
    },
    {
      "cell_type": "code",
      "source": [
        "# evaluating the model's predictions\n",
        "model %>% evaluate(x_test, y_test)"
      ],
      "metadata": {
        "id": "pbDqlXqhzG5-",
        "outputId": "221fc4a4-570e-4696-ae15-8158abcfba70",
        "colab": {
          "base_uri": "https://localhost:8080/",
          "height": 34
        }
      },
      "execution_count": 26,
      "outputs": [
        {
          "output_type": "display_data",
          "data": {
            "text/plain": [
              "     loss  accuracy \n",
              "0.3882649 0.8787879 "
            ],
            "text/latex": "\\begin{description*}\n\\item[loss] 0.388264894485474\n\\item[accuracy] 0.878787875175476\n\\end{description*}\n",
            "text/markdown": "loss\n:   0.388264894485474accuracy\n:   0.878787875175476\n\n",
            "text/html": [
              "<style>\n",
              ".dl-inline {width: auto; margin:0; padding: 0}\n",
              ".dl-inline>dt, .dl-inline>dd {float: none; width: auto; display: inline-block}\n",
              ".dl-inline>dt::after {content: \":\\0020\"; padding-right: .5ex}\n",
              ".dl-inline>dt:not(:first-of-type) {padding-left: .5ex}\n",
              "</style><dl class=dl-inline><dt>loss</dt><dd>0.388264894485474</dd><dt>accuracy</dt><dd>0.878787875175476</dd></dl>\n"
            ]
          },
          "metadata": {}
        }
      ]
    },
    {
      "cell_type": "code",
      "source": [
        "# makes predictions\n",
        "predictions <- model %>% predict(x_test) %>% k_argmax() %>% k_get_value()"
      ],
      "metadata": {
        "id": "73W4MEPSzG8G"
      },
      "execution_count": 27,
      "outputs": []
    },
    {
      "cell_type": "code",
      "source": [
        "expected_value <- y[(b+1):nrow(y_categ)]"
      ],
      "metadata": {
        "id": "8Csc3GzwzQCj"
      },
      "execution_count": 28,
      "outputs": []
    },
    {
      "cell_type": "code",
      "source": [
        "# confusion matrix\n",
        "table(predictions, expected_value)"
      ],
      "metadata": {
        "id": "sFrS3B2MzYck",
        "outputId": "dc49418d-0142-411d-8b1d-559e004a1b40",
        "colab": {
          "base_uri": "https://localhost:8080/",
          "height": 85
        }
      },
      "execution_count": 29,
      "outputs": [
        {
          "output_type": "display_data",
          "data": {
            "text/plain": [
              "           expected_value\n",
              "predictions   0   1\n",
              "          0 238  38\n",
              "          1  26 226"
            ]
          },
          "metadata": {}
        }
      ]
    },
    {
      "cell_type": "code",
      "source": [
        "# saves the entire model\n",
        "save_model_hdf5(model, \"models/emg_1d_cnn_model_overt.h5\")\n",
        "loaded_model <- load_model_hdf5(\"models/emg_1d_cnn_model_overt.h5\")"
      ],
      "metadata": {
        "id": "mTEQn2iDzaax"
      },
      "execution_count": 30,
      "outputs": []
    },
    {
      "cell_type": "code",
      "source": [
        "# saves JSON config\n",
        "json_config <- model_to_json(model)\n",
        "writeLines(json_config, \"models/emg_1d_cnn_model_config_overt.json\")"
      ],
      "metadata": {
        "id": "BHCqF5Hqzg1P"
      },
      "execution_count": 31,
      "outputs": []
    },
    {
      "cell_type": "code",
      "source": [
        ""
      ],
      "metadata": {
        "id": "IvEEXiMLzijO"
      },
      "execution_count": null,
      "outputs": []
    }
  ]
}