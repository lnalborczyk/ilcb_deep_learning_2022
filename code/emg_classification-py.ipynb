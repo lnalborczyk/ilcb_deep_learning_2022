{
  "cells": [
    {
      "cell_type": "markdown",
      "id": "98d0c124",
      "metadata": {
        "lines_to_next_cell": 0,
        "id": "98d0c124"
      },
      "source": [
        "# Classifying surface EMG signals\n",
        "## Using 1D convolutionnal neural networks\n",
        "\n",
        "Adapted from Ladislas Nalborczyk (LPC, LNC, CNRS, AMU)\n"
      ]
    },
    {
      "cell_type": "code",
      "source": [
        "!pip install pyreadr\n",
        "!pip install xarray"
      ],
      "metadata": {
        "colab": {
          "base_uri": "https://localhost:8080/"
        },
        "id": "LCQANYLjdF4d",
        "outputId": "761acbfa-cc8d-406f-d9cb-4f3143c08516"
      },
      "id": "LCQANYLjdF4d",
      "execution_count": 1,
      "outputs": [
        {
          "output_type": "stream",
          "name": "stdout",
          "text": [
            "Collecting pyreadr\n",
            "  Downloading pyreadr-0.4.4-cp37-cp37m-manylinux_2_17_x86_64.manylinux2014_x86_64.whl (361 kB)\n",
            "\u001b[?25l\r\u001b[K     |█                               | 10 kB 21.5 MB/s eta 0:00:01\r\u001b[K     |█▉                              | 20 kB 27.8 MB/s eta 0:00:01\r\u001b[K     |██▊                             | 30 kB 14.9 MB/s eta 0:00:01\r\u001b[K     |███▋                            | 40 kB 11.4 MB/s eta 0:00:01\r\u001b[K     |████▌                           | 51 kB 7.7 MB/s eta 0:00:01\r\u001b[K     |█████▍                          | 61 kB 9.0 MB/s eta 0:00:01\r\u001b[K     |██████▍                         | 71 kB 7.7 MB/s eta 0:00:01\r\u001b[K     |███████▎                        | 81 kB 8.6 MB/s eta 0:00:01\r\u001b[K     |████████▏                       | 92 kB 9.5 MB/s eta 0:00:01\r\u001b[K     |█████████                       | 102 kB 8.4 MB/s eta 0:00:01\r\u001b[K     |██████████                      | 112 kB 8.4 MB/s eta 0:00:01\r\u001b[K     |██████████▉                     | 122 kB 8.4 MB/s eta 0:00:01\r\u001b[K     |███████████▊                    | 133 kB 8.4 MB/s eta 0:00:01\r\u001b[K     |████████████▊                   | 143 kB 8.4 MB/s eta 0:00:01\r\u001b[K     |█████████████▋                  | 153 kB 8.4 MB/s eta 0:00:01\r\u001b[K     |██████████████▌                 | 163 kB 8.4 MB/s eta 0:00:01\r\u001b[K     |███████████████▍                | 174 kB 8.4 MB/s eta 0:00:01\r\u001b[K     |████████████████▎               | 184 kB 8.4 MB/s eta 0:00:01\r\u001b[K     |█████████████████▏              | 194 kB 8.4 MB/s eta 0:00:01\r\u001b[K     |██████████████████▏             | 204 kB 8.4 MB/s eta 0:00:01\r\u001b[K     |███████████████████             | 215 kB 8.4 MB/s eta 0:00:01\r\u001b[K     |████████████████████            | 225 kB 8.4 MB/s eta 0:00:01\r\u001b[K     |████████████████████▉           | 235 kB 8.4 MB/s eta 0:00:01\r\u001b[K     |█████████████████████▊          | 245 kB 8.4 MB/s eta 0:00:01\r\u001b[K     |██████████████████████▋         | 256 kB 8.4 MB/s eta 0:00:01\r\u001b[K     |███████████████████████▌        | 266 kB 8.4 MB/s eta 0:00:01\r\u001b[K     |████████████████████████▌       | 276 kB 8.4 MB/s eta 0:00:01\r\u001b[K     |█████████████████████████▍      | 286 kB 8.4 MB/s eta 0:00:01\r\u001b[K     |██████████████████████████▎     | 296 kB 8.4 MB/s eta 0:00:01\r\u001b[K     |███████████████████████████▏    | 307 kB 8.4 MB/s eta 0:00:01\r\u001b[K     |████████████████████████████    | 317 kB 8.4 MB/s eta 0:00:01\r\u001b[K     |█████████████████████████████   | 327 kB 8.4 MB/s eta 0:00:01\r\u001b[K     |██████████████████████████████  | 337 kB 8.4 MB/s eta 0:00:01\r\u001b[K     |██████████████████████████████▉ | 348 kB 8.4 MB/s eta 0:00:01\r\u001b[K     |███████████████████████████████▊| 358 kB 8.4 MB/s eta 0:00:01\r\u001b[K     |████████████████████████████████| 361 kB 8.4 MB/s \n",
            "\u001b[?25hRequirement already satisfied: pandas>=1.2.0 in /usr/local/lib/python3.7/dist-packages (from pyreadr) (1.3.5)\n",
            "Requirement already satisfied: python-dateutil>=2.7.3 in /usr/local/lib/python3.7/dist-packages (from pandas>=1.2.0->pyreadr) (2.8.2)\n",
            "Requirement already satisfied: pytz>=2017.3 in /usr/local/lib/python3.7/dist-packages (from pandas>=1.2.0->pyreadr) (2018.9)\n",
            "Requirement already satisfied: numpy>=1.17.3 in /usr/local/lib/python3.7/dist-packages (from pandas>=1.2.0->pyreadr) (1.21.5)\n",
            "Requirement already satisfied: six>=1.5 in /usr/local/lib/python3.7/dist-packages (from python-dateutil>=2.7.3->pandas>=1.2.0->pyreadr) (1.15.0)\n",
            "Installing collected packages: pyreadr\n",
            "Successfully installed pyreadr-0.4.4\n",
            "Requirement already satisfied: xarray in /usr/local/lib/python3.7/dist-packages (0.18.2)\n",
            "Requirement already satisfied: pandas>=1.0 in /usr/local/lib/python3.7/dist-packages (from xarray) (1.3.5)\n",
            "Requirement already satisfied: numpy>=1.17 in /usr/local/lib/python3.7/dist-packages (from xarray) (1.21.5)\n",
            "Requirement already satisfied: setuptools>=40.4 in /usr/local/lib/python3.7/dist-packages (from xarray) (57.4.0)\n",
            "Requirement already satisfied: pytz>=2017.3 in /usr/local/lib/python3.7/dist-packages (from pandas>=1.0->xarray) (2018.9)\n",
            "Requirement already satisfied: python-dateutil>=2.7.3 in /usr/local/lib/python3.7/dist-packages (from pandas>=1.0->xarray) (2.8.2)\n",
            "Requirement already satisfied: six>=1.5 in /usr/local/lib/python3.7/dist-packages (from python-dateutil>=2.7.3->pandas>=1.0->xarray) (1.15.0)\n"
          ]
        }
      ]
    },
    {
      "cell_type": "code",
      "execution_count": 2,
      "id": "71d9cf19",
      "metadata": {
        "id": "71d9cf19"
      },
      "outputs": [],
      "source": [
        "import numpy as np\n",
        "import pandas as pd\n",
        "import pyreadr\n",
        "import matplotlib.pyplot as plt"
      ]
    },
    {
      "cell_type": "markdown",
      "id": "859b5f8d",
      "metadata": {
        "id": "859b5f8d"
      },
      "source": [
        "### Importing data\n",
        "-- Download from amubox not working for now, upload necessary --\n",
        "<br/>-- Also `pyreadr` not working --"
      ]
    },
    {
      "cell_type": "code",
      "execution_count": null,
      "id": "27d65ff8",
      "metadata": {
        "id": "27d65ff8"
      },
      "outputs": [],
      "source": [
        "%%bash\n",
        "#wget https://amubox.univ-amu.fr/s/C55BmjbN3i5nTjo?path=%2Fdata%2Fx.rds -o x.rds"
      ]
    },
    {
      "cell_type": "code",
      "execution_count": 3,
      "id": "57693e04",
      "metadata": {
        "colab": {
          "base_uri": "https://localhost:8080/",
          "height": 314
        },
        "id": "57693e04",
        "outputId": "b54e2652-b127-4248-cad4-ef3ad8abd27e"
      },
      "outputs": [
        {
          "output_type": "stream",
          "name": "stdout",
          "text": [
            "(2640, 2000)\n"
          ]
        },
        {
          "output_type": "execute_result",
          "data": {
            "text/html": [
              "\n",
              "  <div id=\"df-426bfc74-c548-44f7-b30e-1dc03aa4f840\">\n",
              "    <div class=\"colab-df-container\">\n",
              "      <div>\n",
              "<style scoped>\n",
              "    .dataframe tbody tr th:only-of-type {\n",
              "        vertical-align: middle;\n",
              "    }\n",
              "\n",
              "    .dataframe tbody tr th {\n",
              "        vertical-align: top;\n",
              "    }\n",
              "\n",
              "    .dataframe thead th {\n",
              "        text-align: right;\n",
              "    }\n",
              "</style>\n",
              "<table border=\"1\" class=\"dataframe\">\n",
              "  <thead>\n",
              "    <tr style=\"text-align: right;\">\n",
              "      <th></th>\n",
              "      <th>X1.1</th>\n",
              "      <th>X2.1</th>\n",
              "      <th>X3.1</th>\n",
              "      <th>X4.1</th>\n",
              "      <th>X5.1</th>\n",
              "      <th>X6.1</th>\n",
              "      <th>X7.1</th>\n",
              "      <th>X8.1</th>\n",
              "      <th>X9.1</th>\n",
              "      <th>X10.1</th>\n",
              "      <th>X11.1</th>\n",
              "      <th>X12.1</th>\n",
              "      <th>X13.1</th>\n",
              "      <th>X14.1</th>\n",
              "      <th>X15.1</th>\n",
              "      <th>X16.1</th>\n",
              "      <th>X17.1</th>\n",
              "      <th>X18.1</th>\n",
              "      <th>X19.1</th>\n",
              "      <th>X20.1</th>\n",
              "      <th>X21.1</th>\n",
              "      <th>X22.1</th>\n",
              "      <th>X23.1</th>\n",
              "      <th>X24.1</th>\n",
              "      <th>X25.1</th>\n",
              "      <th>X26.1</th>\n",
              "      <th>X27.1</th>\n",
              "      <th>X28.1</th>\n",
              "      <th>X29.1</th>\n",
              "      <th>X30.1</th>\n",
              "      <th>X31.1</th>\n",
              "      <th>X32.1</th>\n",
              "      <th>X33.1</th>\n",
              "      <th>X34.1</th>\n",
              "      <th>X35.1</th>\n",
              "      <th>X36.1</th>\n",
              "      <th>X37.1</th>\n",
              "      <th>X38.1</th>\n",
              "      <th>X39.1</th>\n",
              "      <th>X40.1</th>\n",
              "      <th>...</th>\n",
              "      <th>X961.2</th>\n",
              "      <th>X962.2</th>\n",
              "      <th>X963.2</th>\n",
              "      <th>X964.2</th>\n",
              "      <th>X965.2</th>\n",
              "      <th>X966.2</th>\n",
              "      <th>X967.2</th>\n",
              "      <th>X968.2</th>\n",
              "      <th>X969.2</th>\n",
              "      <th>X970.2</th>\n",
              "      <th>X971.2</th>\n",
              "      <th>X972.2</th>\n",
              "      <th>X973.2</th>\n",
              "      <th>X974.2</th>\n",
              "      <th>X975.2</th>\n",
              "      <th>X976.2</th>\n",
              "      <th>X977.2</th>\n",
              "      <th>X978.2</th>\n",
              "      <th>X979.2</th>\n",
              "      <th>X980.2</th>\n",
              "      <th>X981.2</th>\n",
              "      <th>X982.2</th>\n",
              "      <th>X983.2</th>\n",
              "      <th>X984.2</th>\n",
              "      <th>X985.2</th>\n",
              "      <th>X986.2</th>\n",
              "      <th>X987.2</th>\n",
              "      <th>X988.2</th>\n",
              "      <th>X989.2</th>\n",
              "      <th>X990.2</th>\n",
              "      <th>X991.2</th>\n",
              "      <th>X992.2</th>\n",
              "      <th>X993.2</th>\n",
              "      <th>X994.2</th>\n",
              "      <th>X995.2</th>\n",
              "      <th>X996.2</th>\n",
              "      <th>X997.2</th>\n",
              "      <th>X998.2</th>\n",
              "      <th>X999.2</th>\n",
              "      <th>X1000.2</th>\n",
              "    </tr>\n",
              "  </thead>\n",
              "  <tbody>\n",
              "    <tr>\n",
              "      <th>0</th>\n",
              "      <td>-0.036024</td>\n",
              "      <td>0.000014</td>\n",
              "      <td>0.062766</td>\n",
              "      <td>0.113331</td>\n",
              "      <td>0.040279</td>\n",
              "      <td>-0.060853</td>\n",
              "      <td>-0.063413</td>\n",
              "      <td>0.013730</td>\n",
              "      <td>0.064268</td>\n",
              "      <td>0.082042</td>\n",
              "      <td>0.050287</td>\n",
              "      <td>0.025702</td>\n",
              "      <td>-0.084464</td>\n",
              "      <td>-0.221842</td>\n",
              "      <td>-0.148958</td>\n",
              "      <td>-0.065413</td>\n",
              "      <td>0.032227</td>\n",
              "      <td>0.072840</td>\n",
              "      <td>0.008059</td>\n",
              "      <td>0.167445</td>\n",
              "      <td>0.327317</td>\n",
              "      <td>0.256616</td>\n",
              "      <td>0.069338</td>\n",
              "      <td>-0.188139</td>\n",
              "      <td>-0.207538</td>\n",
              "      <td>-0.027176</td>\n",
              "      <td>-0.081127</td>\n",
              "      <td>-0.212371</td>\n",
              "      <td>-0.187106</td>\n",
              "      <td>-0.058972</td>\n",
              "      <td>0.085655</td>\n",
              "      <td>0.144203</td>\n",
              "      <td>0.054707</td>\n",
              "      <td>-0.063935</td>\n",
              "      <td>-0.065170</td>\n",
              "      <td>-0.023093</td>\n",
              "      <td>0.045563</td>\n",
              "      <td>0.069300</td>\n",
              "      <td>0.043454</td>\n",
              "      <td>0.027547</td>\n",
              "      <td>...</td>\n",
              "      <td>-0.000203</td>\n",
              "      <td>-0.001440</td>\n",
              "      <td>0.004908</td>\n",
              "      <td>0.004327</td>\n",
              "      <td>0.003270</td>\n",
              "      <td>0.001856</td>\n",
              "      <td>-0.001947</td>\n",
              "      <td>-0.003323</td>\n",
              "      <td>-0.001033</td>\n",
              "      <td>-0.001998</td>\n",
              "      <td>-0.004063</td>\n",
              "      <td>-0.001785</td>\n",
              "      <td>-0.001854</td>\n",
              "      <td>0.001184</td>\n",
              "      <td>0.000914</td>\n",
              "      <td>0.001027</td>\n",
              "      <td>0.003165</td>\n",
              "      <td>0.000702</td>\n",
              "      <td>-0.000128</td>\n",
              "      <td>-0.001410</td>\n",
              "      <td>-0.000503</td>\n",
              "      <td>-0.000774</td>\n",
              "      <td>0.000235</td>\n",
              "      <td>0.000782</td>\n",
              "      <td>-0.000236</td>\n",
              "      <td>0.000820</td>\n",
              "      <td>-0.000833</td>\n",
              "      <td>0.000404</td>\n",
              "      <td>0.000112</td>\n",
              "      <td>-0.001078</td>\n",
              "      <td>-0.000574</td>\n",
              "      <td>0.000334</td>\n",
              "      <td>0.002455</td>\n",
              "      <td>-0.000003</td>\n",
              "      <td>-0.001148</td>\n",
              "      <td>0.001041</td>\n",
              "      <td>0.001937</td>\n",
              "      <td>0.000644</td>\n",
              "      <td>-0.001675</td>\n",
              "      <td>-0.001406</td>\n",
              "    </tr>\n",
              "    <tr>\n",
              "      <th>1</th>\n",
              "      <td>0.078404</td>\n",
              "      <td>0.037125</td>\n",
              "      <td>0.017188</td>\n",
              "      <td>-0.033735</td>\n",
              "      <td>-0.024566</td>\n",
              "      <td>-0.026096</td>\n",
              "      <td>-0.025849</td>\n",
              "      <td>-0.028288</td>\n",
              "      <td>-0.036177</td>\n",
              "      <td>0.014963</td>\n",
              "      <td>0.054120</td>\n",
              "      <td>0.044820</td>\n",
              "      <td>0.030865</td>\n",
              "      <td>0.032262</td>\n",
              "      <td>0.023836</td>\n",
              "      <td>0.048525</td>\n",
              "      <td>0.039536</td>\n",
              "      <td>-0.028504</td>\n",
              "      <td>-0.059597</td>\n",
              "      <td>-0.047452</td>\n",
              "      <td>-0.003010</td>\n",
              "      <td>0.001870</td>\n",
              "      <td>-0.039376</td>\n",
              "      <td>-0.082873</td>\n",
              "      <td>-0.045674</td>\n",
              "      <td>0.049014</td>\n",
              "      <td>0.080762</td>\n",
              "      <td>0.017886</td>\n",
              "      <td>-0.049431</td>\n",
              "      <td>-0.012197</td>\n",
              "      <td>0.003803</td>\n",
              "      <td>-0.027885</td>\n",
              "      <td>-0.001783</td>\n",
              "      <td>0.039049</td>\n",
              "      <td>0.014720</td>\n",
              "      <td>-0.024802</td>\n",
              "      <td>-0.057904</td>\n",
              "      <td>-0.082305</td>\n",
              "      <td>-0.006491</td>\n",
              "      <td>0.140513</td>\n",
              "      <td>...</td>\n",
              "      <td>0.001430</td>\n",
              "      <td>0.001303</td>\n",
              "      <td>0.001205</td>\n",
              "      <td>0.000223</td>\n",
              "      <td>-0.000949</td>\n",
              "      <td>0.000427</td>\n",
              "      <td>0.000789</td>\n",
              "      <td>-0.000911</td>\n",
              "      <td>0.000957</td>\n",
              "      <td>-0.001730</td>\n",
              "      <td>-0.003031</td>\n",
              "      <td>-0.000634</td>\n",
              "      <td>0.003109</td>\n",
              "      <td>0.005547</td>\n",
              "      <td>0.002886</td>\n",
              "      <td>0.003233</td>\n",
              "      <td>0.004783</td>\n",
              "      <td>0.004990</td>\n",
              "      <td>-0.000189</td>\n",
              "      <td>-0.005267</td>\n",
              "      <td>-0.000468</td>\n",
              "      <td>0.002452</td>\n",
              "      <td>0.000688</td>\n",
              "      <td>-0.001299</td>\n",
              "      <td>-0.000421</td>\n",
              "      <td>-0.000899</td>\n",
              "      <td>-0.006160</td>\n",
              "      <td>-0.004711</td>\n",
              "      <td>0.002437</td>\n",
              "      <td>0.006031</td>\n",
              "      <td>0.007761</td>\n",
              "      <td>0.004713</td>\n",
              "      <td>-0.002286</td>\n",
              "      <td>-0.000811</td>\n",
              "      <td>0.002156</td>\n",
              "      <td>-0.000563</td>\n",
              "      <td>-0.004742</td>\n",
              "      <td>-0.005604</td>\n",
              "      <td>-0.005368</td>\n",
              "      <td>-0.006785</td>\n",
              "    </tr>\n",
              "    <tr>\n",
              "      <th>2</th>\n",
              "      <td>-0.001330</td>\n",
              "      <td>-0.040026</td>\n",
              "      <td>-0.042166</td>\n",
              "      <td>-0.040130</td>\n",
              "      <td>-0.037856</td>\n",
              "      <td>-0.030266</td>\n",
              "      <td>-0.023955</td>\n",
              "      <td>-0.008761</td>\n",
              "      <td>0.000905</td>\n",
              "      <td>0.010665</td>\n",
              "      <td>0.013927</td>\n",
              "      <td>0.019376</td>\n",
              "      <td>0.021689</td>\n",
              "      <td>0.017273</td>\n",
              "      <td>0.007296</td>\n",
              "      <td>-0.010394</td>\n",
              "      <td>-0.007700</td>\n",
              "      <td>0.013016</td>\n",
              "      <td>0.031935</td>\n",
              "      <td>0.034566</td>\n",
              "      <td>0.028280</td>\n",
              "      <td>0.021306</td>\n",
              "      <td>0.018799</td>\n",
              "      <td>0.016707</td>\n",
              "      <td>0.002203</td>\n",
              "      <td>-0.011364</td>\n",
              "      <td>-0.013112</td>\n",
              "      <td>-0.010130</td>\n",
              "      <td>-0.004129</td>\n",
              "      <td>-0.007754</td>\n",
              "      <td>-0.026807</td>\n",
              "      <td>-0.018863</td>\n",
              "      <td>-0.003892</td>\n",
              "      <td>-0.004116</td>\n",
              "      <td>-0.010310</td>\n",
              "      <td>-0.022992</td>\n",
              "      <td>-0.013495</td>\n",
              "      <td>-0.006763</td>\n",
              "      <td>-0.004772</td>\n",
              "      <td>0.014774</td>\n",
              "      <td>...</td>\n",
              "      <td>0.004410</td>\n",
              "      <td>0.002189</td>\n",
              "      <td>0.004453</td>\n",
              "      <td>0.007867</td>\n",
              "      <td>0.004260</td>\n",
              "      <td>0.001261</td>\n",
              "      <td>0.000055</td>\n",
              "      <td>-0.000739</td>\n",
              "      <td>0.001755</td>\n",
              "      <td>0.002956</td>\n",
              "      <td>0.003061</td>\n",
              "      <td>0.001988</td>\n",
              "      <td>0.000646</td>\n",
              "      <td>-0.000253</td>\n",
              "      <td>0.001312</td>\n",
              "      <td>0.004354</td>\n",
              "      <td>0.002705</td>\n",
              "      <td>0.001035</td>\n",
              "      <td>-0.000745</td>\n",
              "      <td>-0.002284</td>\n",
              "      <td>-0.003701</td>\n",
              "      <td>-0.002190</td>\n",
              "      <td>-0.001783</td>\n",
              "      <td>-0.003183</td>\n",
              "      <td>-0.000442</td>\n",
              "      <td>-0.002650</td>\n",
              "      <td>-0.006578</td>\n",
              "      <td>-0.005898</td>\n",
              "      <td>-0.001564</td>\n",
              "      <td>0.000598</td>\n",
              "      <td>-0.000375</td>\n",
              "      <td>-0.000565</td>\n",
              "      <td>0.000683</td>\n",
              "      <td>0.001245</td>\n",
              "      <td>0.000055</td>\n",
              "      <td>-0.001998</td>\n",
              "      <td>-0.004156</td>\n",
              "      <td>-0.000842</td>\n",
              "      <td>-0.000914</td>\n",
              "      <td>-0.000619</td>\n",
              "    </tr>\n",
              "    <tr>\n",
              "      <th>3</th>\n",
              "      <td>0.086723</td>\n",
              "      <td>0.012550</td>\n",
              "      <td>-0.082445</td>\n",
              "      <td>0.052253</td>\n",
              "      <td>0.122808</td>\n",
              "      <td>0.151215</td>\n",
              "      <td>0.055032</td>\n",
              "      <td>-0.088500</td>\n",
              "      <td>-0.131809</td>\n",
              "      <td>-0.234357</td>\n",
              "      <td>-0.189118</td>\n",
              "      <td>0.038631</td>\n",
              "      <td>0.236841</td>\n",
              "      <td>0.111770</td>\n",
              "      <td>0.032688</td>\n",
              "      <td>0.095694</td>\n",
              "      <td>-0.005635</td>\n",
              "      <td>-0.033029</td>\n",
              "      <td>-0.083581</td>\n",
              "      <td>-0.108058</td>\n",
              "      <td>-0.045794</td>\n",
              "      <td>-0.137595</td>\n",
              "      <td>-0.245800</td>\n",
              "      <td>-0.116243</td>\n",
              "      <td>0.033398</td>\n",
              "      <td>0.151857</td>\n",
              "      <td>0.505368</td>\n",
              "      <td>0.529828</td>\n",
              "      <td>0.096459</td>\n",
              "      <td>-0.123662</td>\n",
              "      <td>-0.208807</td>\n",
              "      <td>-0.176243</td>\n",
              "      <td>-0.059153</td>\n",
              "      <td>-0.158515</td>\n",
              "      <td>-0.267087</td>\n",
              "      <td>-0.127706</td>\n",
              "      <td>0.091066</td>\n",
              "      <td>0.109499</td>\n",
              "      <td>-0.004295</td>\n",
              "      <td>-0.147058</td>\n",
              "      <td>...</td>\n",
              "      <td>0.003363</td>\n",
              "      <td>0.000842</td>\n",
              "      <td>-0.001972</td>\n",
              "      <td>-0.001024</td>\n",
              "      <td>-0.003641</td>\n",
              "      <td>-0.001217</td>\n",
              "      <td>-0.000098</td>\n",
              "      <td>0.000318</td>\n",
              "      <td>0.000292</td>\n",
              "      <td>-0.000960</td>\n",
              "      <td>-0.001556</td>\n",
              "      <td>-0.001527</td>\n",
              "      <td>0.000338</td>\n",
              "      <td>0.000311</td>\n",
              "      <td>0.001938</td>\n",
              "      <td>0.000713</td>\n",
              "      <td>-0.000284</td>\n",
              "      <td>0.000063</td>\n",
              "      <td>0.001775</td>\n",
              "      <td>0.001999</td>\n",
              "      <td>-0.001797</td>\n",
              "      <td>0.001250</td>\n",
              "      <td>0.000937</td>\n",
              "      <td>0.000028</td>\n",
              "      <td>-0.000432</td>\n",
              "      <td>-0.003140</td>\n",
              "      <td>0.001838</td>\n",
              "      <td>0.004365</td>\n",
              "      <td>0.002538</td>\n",
              "      <td>-0.000904</td>\n",
              "      <td>0.000452</td>\n",
              "      <td>0.002603</td>\n",
              "      <td>0.001556</td>\n",
              "      <td>0.003221</td>\n",
              "      <td>0.000850</td>\n",
              "      <td>-0.001022</td>\n",
              "      <td>-0.001362</td>\n",
              "      <td>-0.001386</td>\n",
              "      <td>-0.000967</td>\n",
              "      <td>0.000195</td>\n",
              "    </tr>\n",
              "    <tr>\n",
              "      <th>4</th>\n",
              "      <td>-0.031001</td>\n",
              "      <td>-0.052560</td>\n",
              "      <td>-0.048220</td>\n",
              "      <td>-0.039191</td>\n",
              "      <td>-0.032562</td>\n",
              "      <td>-0.023029</td>\n",
              "      <td>0.016387</td>\n",
              "      <td>0.048946</td>\n",
              "      <td>0.040828</td>\n",
              "      <td>-0.013099</td>\n",
              "      <td>-0.069770</td>\n",
              "      <td>-0.070558</td>\n",
              "      <td>-0.051142</td>\n",
              "      <td>-0.027297</td>\n",
              "      <td>-0.009563</td>\n",
              "      <td>-0.003254</td>\n",
              "      <td>0.017374</td>\n",
              "      <td>0.032359</td>\n",
              "      <td>0.013125</td>\n",
              "      <td>-0.003162</td>\n",
              "      <td>0.019493</td>\n",
              "      <td>0.037914</td>\n",
              "      <td>0.037696</td>\n",
              "      <td>0.022078</td>\n",
              "      <td>-0.017856</td>\n",
              "      <td>-0.040705</td>\n",
              "      <td>-0.026647</td>\n",
              "      <td>-0.009982</td>\n",
              "      <td>-0.002654</td>\n",
              "      <td>0.001947</td>\n",
              "      <td>0.002492</td>\n",
              "      <td>0.001158</td>\n",
              "      <td>0.002734</td>\n",
              "      <td>0.009315</td>\n",
              "      <td>0.019246</td>\n",
              "      <td>0.045695</td>\n",
              "      <td>0.055891</td>\n",
              "      <td>0.031883</td>\n",
              "      <td>0.015728</td>\n",
              "      <td>0.001617</td>\n",
              "      <td>...</td>\n",
              "      <td>0.000507</td>\n",
              "      <td>0.001695</td>\n",
              "      <td>-0.000373</td>\n",
              "      <td>-0.000427</td>\n",
              "      <td>0.000560</td>\n",
              "      <td>0.002442</td>\n",
              "      <td>0.000810</td>\n",
              "      <td>-0.001732</td>\n",
              "      <td>0.000375</td>\n",
              "      <td>0.002238</td>\n",
              "      <td>0.002090</td>\n",
              "      <td>0.001762</td>\n",
              "      <td>0.000203</td>\n",
              "      <td>-0.000816</td>\n",
              "      <td>-0.002489</td>\n",
              "      <td>-0.004446</td>\n",
              "      <td>-0.000056</td>\n",
              "      <td>0.000297</td>\n",
              "      <td>-0.001527</td>\n",
              "      <td>0.000442</td>\n",
              "      <td>0.000731</td>\n",
              "      <td>0.000962</td>\n",
              "      <td>0.002560</td>\n",
              "      <td>0.003246</td>\n",
              "      <td>0.003698</td>\n",
              "      <td>0.002312</td>\n",
              "      <td>-0.002304</td>\n",
              "      <td>-0.000833</td>\n",
              "      <td>0.000629</td>\n",
              "      <td>-0.001826</td>\n",
              "      <td>-0.000557</td>\n",
              "      <td>0.000301</td>\n",
              "      <td>0.001466</td>\n",
              "      <td>0.002615</td>\n",
              "      <td>-0.003253</td>\n",
              "      <td>-0.007885</td>\n",
              "      <td>-0.008376</td>\n",
              "      <td>-0.005730</td>\n",
              "      <td>0.000449</td>\n",
              "      <td>0.001918</td>\n",
              "    </tr>\n",
              "  </tbody>\n",
              "</table>\n",
              "<p>5 rows × 2000 columns</p>\n",
              "</div>\n",
              "      <button class=\"colab-df-convert\" onclick=\"convertToInteractive('df-426bfc74-c548-44f7-b30e-1dc03aa4f840')\"\n",
              "              title=\"Convert this dataframe to an interactive table.\"\n",
              "              style=\"display:none;\">\n",
              "        \n",
              "  <svg xmlns=\"http://www.w3.org/2000/svg\" height=\"24px\"viewBox=\"0 0 24 24\"\n",
              "       width=\"24px\">\n",
              "    <path d=\"M0 0h24v24H0V0z\" fill=\"none\"/>\n",
              "    <path d=\"M18.56 5.44l.94 2.06.94-2.06 2.06-.94-2.06-.94-.94-2.06-.94 2.06-2.06.94zm-11 1L8.5 8.5l.94-2.06 2.06-.94-2.06-.94L8.5 2.5l-.94 2.06-2.06.94zm10 10l.94 2.06.94-2.06 2.06-.94-2.06-.94-.94-2.06-.94 2.06-2.06.94z\"/><path d=\"M17.41 7.96l-1.37-1.37c-.4-.4-.92-.59-1.43-.59-.52 0-1.04.2-1.43.59L10.3 9.45l-7.72 7.72c-.78.78-.78 2.05 0 2.83L4 21.41c.39.39.9.59 1.41.59.51 0 1.02-.2 1.41-.59l7.78-7.78 2.81-2.81c.8-.78.8-2.07 0-2.86zM5.41 20L4 18.59l7.72-7.72 1.47 1.35L5.41 20z\"/>\n",
              "  </svg>\n",
              "      </button>\n",
              "      \n",
              "  <style>\n",
              "    .colab-df-container {\n",
              "      display:flex;\n",
              "      flex-wrap:wrap;\n",
              "      gap: 12px;\n",
              "    }\n",
              "\n",
              "    .colab-df-convert {\n",
              "      background-color: #E8F0FE;\n",
              "      border: none;\n",
              "      border-radius: 50%;\n",
              "      cursor: pointer;\n",
              "      display: none;\n",
              "      fill: #1967D2;\n",
              "      height: 32px;\n",
              "      padding: 0 0 0 0;\n",
              "      width: 32px;\n",
              "    }\n",
              "\n",
              "    .colab-df-convert:hover {\n",
              "      background-color: #E2EBFA;\n",
              "      box-shadow: 0px 1px 2px rgba(60, 64, 67, 0.3), 0px 1px 3px 1px rgba(60, 64, 67, 0.15);\n",
              "      fill: #174EA6;\n",
              "    }\n",
              "\n",
              "    [theme=dark] .colab-df-convert {\n",
              "      background-color: #3B4455;\n",
              "      fill: #D2E3FC;\n",
              "    }\n",
              "\n",
              "    [theme=dark] .colab-df-convert:hover {\n",
              "      background-color: #434B5C;\n",
              "      box-shadow: 0px 1px 3px 1px rgba(0, 0, 0, 0.15);\n",
              "      filter: drop-shadow(0px 1px 2px rgba(0, 0, 0, 0.3));\n",
              "      fill: #FFFFFF;\n",
              "    }\n",
              "  </style>\n",
              "\n",
              "      <script>\n",
              "        const buttonEl =\n",
              "          document.querySelector('#df-426bfc74-c548-44f7-b30e-1dc03aa4f840 button.colab-df-convert');\n",
              "        buttonEl.style.display =\n",
              "          google.colab.kernel.accessAllowed ? 'block' : 'none';\n",
              "\n",
              "        async function convertToInteractive(key) {\n",
              "          const element = document.querySelector('#df-426bfc74-c548-44f7-b30e-1dc03aa4f840');\n",
              "          const dataTable =\n",
              "            await google.colab.kernel.invokeFunction('convertToInteractive',\n",
              "                                                     [key], {});\n",
              "          if (!dataTable) return;\n",
              "\n",
              "          const docLinkHtml = 'Like what you see? Visit the ' +\n",
              "            '<a target=\"_blank\" href=https://colab.research.google.com/notebooks/data_table.ipynb>data table notebook</a>'\n",
              "            + ' to learn more about interactive tables.';\n",
              "          element.innerHTML = '';\n",
              "          dataTable['output_type'] = 'display_data';\n",
              "          await google.colab.output.renderOutput(dataTable, element);\n",
              "          const docLink = document.createElement('div');\n",
              "          docLink.innerHTML = docLinkHtml;\n",
              "          element.appendChild(docLink);\n",
              "        }\n",
              "      </script>\n",
              "    </div>\n",
              "  </div>\n",
              "  "
            ],
            "text/plain": [
              "       X1.1      X2.1      X3.1  ...    X998.2    X999.2   X1000.2\n",
              "0 -0.036024  0.000014  0.062766  ...  0.000644 -0.001675 -0.001406\n",
              "1  0.078404  0.037125  0.017188  ... -0.005604 -0.005368 -0.006785\n",
              "2 -0.001330 -0.040026 -0.042166  ... -0.000842 -0.000914 -0.000619\n",
              "3  0.086723  0.012550 -0.082445  ... -0.001386 -0.000967  0.000195\n",
              "4 -0.031001 -0.052560 -0.048220  ... -0.005730  0.000449  0.001918\n",
              "\n",
              "[5 rows x 2000 columns]"
            ]
          },
          "metadata": {},
          "execution_count": 3
        }
      ],
      "source": [
        "# loading input features\n",
        "x = pd.read_csv(\"x.csv\")\n",
        "print(x.shape)\n",
        "x.head()"
      ]
    },
    {
      "cell_type": "markdown",
      "source": [
        "Shape is supposed to be `(6 reps x 20 words x 22 participants) x 1 sec x 2 muscles` - duplicate features from conversion"
      ],
      "metadata": {
        "id": "DleBq0VQwwIW"
      },
      "id": "DleBq0VQwwIW"
    },
    {
      "cell_type": "code",
      "source": [
        "x_1 = x[[col for col in x.columns if col[-2:] == '.1']].to_numpy()\n",
        "x_2 = x[[col for col in x.columns if col[-2:] == '.2']].to_numpy()"
      ],
      "metadata": {
        "id": "5b6btoRLxF_Z"
      },
      "id": "5b6btoRLxF_Z",
      "execution_count": 4,
      "outputs": []
    },
    {
      "cell_type": "code",
      "source": [
        "x_reshaped = np.concatenate(\n",
        "    [np.expand_dims(x_1, axis=2),\n",
        "     np.expand_dims(x_2, axis=2)], axis=2\n",
        ")\n",
        "print(x_reshaped.shape)\n",
        "# (6 reps x 20 words x 22 participants) x 1 sec x 2 muscles"
      ],
      "metadata": {
        "colab": {
          "base_uri": "https://localhost:8080/"
        },
        "id": "Qt0rTFYJv18y",
        "outputId": "c9af4117-c56a-4d7a-e8eb-dd4bf2758015"
      },
      "id": "Qt0rTFYJv18y",
      "execution_count": 5,
      "outputs": [
        {
          "output_type": "stream",
          "name": "stdout",
          "text": [
            "(2640, 1000, 2)\n"
          ]
        }
      ]
    },
    {
      "cell_type": "code",
      "execution_count": 6,
      "id": "78e4653c",
      "metadata": {
        "colab": {
          "base_uri": "https://localhost:8080/",
          "height": 221
        },
        "id": "78e4653c",
        "outputId": "82c6c367-ed69-4d1c-b622-6567d7d21996"
      },
      "outputs": [
        {
          "output_type": "stream",
          "name": "stdout",
          "text": [
            "(2640, 1)\n"
          ]
        },
        {
          "output_type": "execute_result",
          "data": {
            "text/html": [
              "\n",
              "  <div id=\"df-87f7ccc6-a8ed-4022-8fbb-641ee272e260\">\n",
              "    <div class=\"colab-df-container\">\n",
              "      <div>\n",
              "<style scoped>\n",
              "    .dataframe tbody tr th:only-of-type {\n",
              "        vertical-align: middle;\n",
              "    }\n",
              "\n",
              "    .dataframe tbody tr th {\n",
              "        vertical-align: top;\n",
              "    }\n",
              "\n",
              "    .dataframe thead th {\n",
              "        text-align: right;\n",
              "    }\n",
              "</style>\n",
              "<table border=\"1\" class=\"dataframe\">\n",
              "  <thead>\n",
              "    <tr style=\"text-align: right;\">\n",
              "      <th></th>\n",
              "      <th>x</th>\n",
              "    </tr>\n",
              "  </thead>\n",
              "  <tbody>\n",
              "    <tr>\n",
              "      <th>0</th>\n",
              "      <td>1</td>\n",
              "    </tr>\n",
              "    <tr>\n",
              "      <th>1</th>\n",
              "      <td>1</td>\n",
              "    </tr>\n",
              "    <tr>\n",
              "      <th>2</th>\n",
              "      <td>1</td>\n",
              "    </tr>\n",
              "    <tr>\n",
              "      <th>3</th>\n",
              "      <td>1</td>\n",
              "    </tr>\n",
              "    <tr>\n",
              "      <th>4</th>\n",
              "      <td>1</td>\n",
              "    </tr>\n",
              "  </tbody>\n",
              "</table>\n",
              "</div>\n",
              "      <button class=\"colab-df-convert\" onclick=\"convertToInteractive('df-87f7ccc6-a8ed-4022-8fbb-641ee272e260')\"\n",
              "              title=\"Convert this dataframe to an interactive table.\"\n",
              "              style=\"display:none;\">\n",
              "        \n",
              "  <svg xmlns=\"http://www.w3.org/2000/svg\" height=\"24px\"viewBox=\"0 0 24 24\"\n",
              "       width=\"24px\">\n",
              "    <path d=\"M0 0h24v24H0V0z\" fill=\"none\"/>\n",
              "    <path d=\"M18.56 5.44l.94 2.06.94-2.06 2.06-.94-2.06-.94-.94-2.06-.94 2.06-2.06.94zm-11 1L8.5 8.5l.94-2.06 2.06-.94-2.06-.94L8.5 2.5l-.94 2.06-2.06.94zm10 10l.94 2.06.94-2.06 2.06-.94-2.06-.94-.94-2.06-.94 2.06-2.06.94z\"/><path d=\"M17.41 7.96l-1.37-1.37c-.4-.4-.92-.59-1.43-.59-.52 0-1.04.2-1.43.59L10.3 9.45l-7.72 7.72c-.78.78-.78 2.05 0 2.83L4 21.41c.39.39.9.59 1.41.59.51 0 1.02-.2 1.41-.59l7.78-7.78 2.81-2.81c.8-.78.8-2.07 0-2.86zM5.41 20L4 18.59l7.72-7.72 1.47 1.35L5.41 20z\"/>\n",
              "  </svg>\n",
              "      </button>\n",
              "      \n",
              "  <style>\n",
              "    .colab-df-container {\n",
              "      display:flex;\n",
              "      flex-wrap:wrap;\n",
              "      gap: 12px;\n",
              "    }\n",
              "\n",
              "    .colab-df-convert {\n",
              "      background-color: #E8F0FE;\n",
              "      border: none;\n",
              "      border-radius: 50%;\n",
              "      cursor: pointer;\n",
              "      display: none;\n",
              "      fill: #1967D2;\n",
              "      height: 32px;\n",
              "      padding: 0 0 0 0;\n",
              "      width: 32px;\n",
              "    }\n",
              "\n",
              "    .colab-df-convert:hover {\n",
              "      background-color: #E2EBFA;\n",
              "      box-shadow: 0px 1px 2px rgba(60, 64, 67, 0.3), 0px 1px 3px 1px rgba(60, 64, 67, 0.15);\n",
              "      fill: #174EA6;\n",
              "    }\n",
              "\n",
              "    [theme=dark] .colab-df-convert {\n",
              "      background-color: #3B4455;\n",
              "      fill: #D2E3FC;\n",
              "    }\n",
              "\n",
              "    [theme=dark] .colab-df-convert:hover {\n",
              "      background-color: #434B5C;\n",
              "      box-shadow: 0px 1px 3px 1px rgba(0, 0, 0, 0.15);\n",
              "      filter: drop-shadow(0px 1px 2px rgba(0, 0, 0, 0.3));\n",
              "      fill: #FFFFFF;\n",
              "    }\n",
              "  </style>\n",
              "\n",
              "      <script>\n",
              "        const buttonEl =\n",
              "          document.querySelector('#df-87f7ccc6-a8ed-4022-8fbb-641ee272e260 button.colab-df-convert');\n",
              "        buttonEl.style.display =\n",
              "          google.colab.kernel.accessAllowed ? 'block' : 'none';\n",
              "\n",
              "        async function convertToInteractive(key) {\n",
              "          const element = document.querySelector('#df-87f7ccc6-a8ed-4022-8fbb-641ee272e260');\n",
              "          const dataTable =\n",
              "            await google.colab.kernel.invokeFunction('convertToInteractive',\n",
              "                                                     [key], {});\n",
              "          if (!dataTable) return;\n",
              "\n",
              "          const docLinkHtml = 'Like what you see? Visit the ' +\n",
              "            '<a target=\"_blank\" href=https://colab.research.google.com/notebooks/data_table.ipynb>data table notebook</a>'\n",
              "            + ' to learn more about interactive tables.';\n",
              "          element.innerHTML = '';\n",
              "          dataTable['output_type'] = 'display_data';\n",
              "          await google.colab.output.renderOutput(dataTable, element);\n",
              "          const docLink = document.createElement('div');\n",
              "          docLink.innerHTML = docLinkHtml;\n",
              "          element.appendChild(docLink);\n",
              "        }\n",
              "      </script>\n",
              "    </div>\n",
              "  </div>\n",
              "  "
            ],
            "text/plain": [
              "   x\n",
              "0  1\n",
              "1  1\n",
              "2  1\n",
              "3  1\n",
              "4  1"
            ]
          },
          "metadata": {},
          "execution_count": 6
        }
      ],
      "source": [
        "# loading labels\n",
        "y = pd.read_csv(\"y.csv\")\n",
        "print(y.shape)\n",
        "# 6 reps x 20 words x 22 participants\n",
        "y.head()"
      ]
    },
    {
      "cell_type": "markdown",
      "id": "32f1b4c8",
      "metadata": {
        "id": "32f1b4c8"
      },
      "source": [
        "### Splitting data into train/test\n"
      ]
    },
    {
      "cell_type": "code",
      "source": [
        "train_size = 0.8\n",
        "num_classes = len(y.x.unique())\n",
        "# Dummy encoding of labels\n",
        "# takes a vector or 1 column matrix of class labels \n",
        "# and converts it into a matrix with p columns, one for each category.\n",
        "y_categ = pd.get_dummies(y.x)"
      ],
      "metadata": {
        "id": "jzsZIpqIjLmI"
      },
      "id": "jzsZIpqIjLmI",
      "execution_count": 7,
      "outputs": []
    },
    {
      "cell_type": "code",
      "source": [
        "y_categ.head()"
      ],
      "metadata": {
        "colab": {
          "base_uri": "https://localhost:8080/",
          "height": 204
        },
        "id": "rCimy6nIzyC1",
        "outputId": "5113f8d9-e4ab-450e-e3a5-ae04e3eaad5c"
      },
      "id": "rCimy6nIzyC1",
      "execution_count": 8,
      "outputs": [
        {
          "output_type": "execute_result",
          "data": {
            "text/html": [
              "\n",
              "  <div id=\"df-7f908912-6446-4a7f-897f-a226037046cf\">\n",
              "    <div class=\"colab-df-container\">\n",
              "      <div>\n",
              "<style scoped>\n",
              "    .dataframe tbody tr th:only-of-type {\n",
              "        vertical-align: middle;\n",
              "    }\n",
              "\n",
              "    .dataframe tbody tr th {\n",
              "        vertical-align: top;\n",
              "    }\n",
              "\n",
              "    .dataframe thead th {\n",
              "        text-align: right;\n",
              "    }\n",
              "</style>\n",
              "<table border=\"1\" class=\"dataframe\">\n",
              "  <thead>\n",
              "    <tr style=\"text-align: right;\">\n",
              "      <th></th>\n",
              "      <th>0</th>\n",
              "      <th>1</th>\n",
              "    </tr>\n",
              "  </thead>\n",
              "  <tbody>\n",
              "    <tr>\n",
              "      <th>0</th>\n",
              "      <td>0</td>\n",
              "      <td>1</td>\n",
              "    </tr>\n",
              "    <tr>\n",
              "      <th>1</th>\n",
              "      <td>0</td>\n",
              "      <td>1</td>\n",
              "    </tr>\n",
              "    <tr>\n",
              "      <th>2</th>\n",
              "      <td>0</td>\n",
              "      <td>1</td>\n",
              "    </tr>\n",
              "    <tr>\n",
              "      <th>3</th>\n",
              "      <td>0</td>\n",
              "      <td>1</td>\n",
              "    </tr>\n",
              "    <tr>\n",
              "      <th>4</th>\n",
              "      <td>0</td>\n",
              "      <td>1</td>\n",
              "    </tr>\n",
              "  </tbody>\n",
              "</table>\n",
              "</div>\n",
              "      <button class=\"colab-df-convert\" onclick=\"convertToInteractive('df-7f908912-6446-4a7f-897f-a226037046cf')\"\n",
              "              title=\"Convert this dataframe to an interactive table.\"\n",
              "              style=\"display:none;\">\n",
              "        \n",
              "  <svg xmlns=\"http://www.w3.org/2000/svg\" height=\"24px\"viewBox=\"0 0 24 24\"\n",
              "       width=\"24px\">\n",
              "    <path d=\"M0 0h24v24H0V0z\" fill=\"none\"/>\n",
              "    <path d=\"M18.56 5.44l.94 2.06.94-2.06 2.06-.94-2.06-.94-.94-2.06-.94 2.06-2.06.94zm-11 1L8.5 8.5l.94-2.06 2.06-.94-2.06-.94L8.5 2.5l-.94 2.06-2.06.94zm10 10l.94 2.06.94-2.06 2.06-.94-2.06-.94-.94-2.06-.94 2.06-2.06.94z\"/><path d=\"M17.41 7.96l-1.37-1.37c-.4-.4-.92-.59-1.43-.59-.52 0-1.04.2-1.43.59L10.3 9.45l-7.72 7.72c-.78.78-.78 2.05 0 2.83L4 21.41c.39.39.9.59 1.41.59.51 0 1.02-.2 1.41-.59l7.78-7.78 2.81-2.81c.8-.78.8-2.07 0-2.86zM5.41 20L4 18.59l7.72-7.72 1.47 1.35L5.41 20z\"/>\n",
              "  </svg>\n",
              "      </button>\n",
              "      \n",
              "  <style>\n",
              "    .colab-df-container {\n",
              "      display:flex;\n",
              "      flex-wrap:wrap;\n",
              "      gap: 12px;\n",
              "    }\n",
              "\n",
              "    .colab-df-convert {\n",
              "      background-color: #E8F0FE;\n",
              "      border: none;\n",
              "      border-radius: 50%;\n",
              "      cursor: pointer;\n",
              "      display: none;\n",
              "      fill: #1967D2;\n",
              "      height: 32px;\n",
              "      padding: 0 0 0 0;\n",
              "      width: 32px;\n",
              "    }\n",
              "\n",
              "    .colab-df-convert:hover {\n",
              "      background-color: #E2EBFA;\n",
              "      box-shadow: 0px 1px 2px rgba(60, 64, 67, 0.3), 0px 1px 3px 1px rgba(60, 64, 67, 0.15);\n",
              "      fill: #174EA6;\n",
              "    }\n",
              "\n",
              "    [theme=dark] .colab-df-convert {\n",
              "      background-color: #3B4455;\n",
              "      fill: #D2E3FC;\n",
              "    }\n",
              "\n",
              "    [theme=dark] .colab-df-convert:hover {\n",
              "      background-color: #434B5C;\n",
              "      box-shadow: 0px 1px 3px 1px rgba(0, 0, 0, 0.15);\n",
              "      filter: drop-shadow(0px 1px 2px rgba(0, 0, 0, 0.3));\n",
              "      fill: #FFFFFF;\n",
              "    }\n",
              "  </style>\n",
              "\n",
              "      <script>\n",
              "        const buttonEl =\n",
              "          document.querySelector('#df-7f908912-6446-4a7f-897f-a226037046cf button.colab-df-convert');\n",
              "        buttonEl.style.display =\n",
              "          google.colab.kernel.accessAllowed ? 'block' : 'none';\n",
              "\n",
              "        async function convertToInteractive(key) {\n",
              "          const element = document.querySelector('#df-7f908912-6446-4a7f-897f-a226037046cf');\n",
              "          const dataTable =\n",
              "            await google.colab.kernel.invokeFunction('convertToInteractive',\n",
              "                                                     [key], {});\n",
              "          if (!dataTable) return;\n",
              "\n",
              "          const docLinkHtml = 'Like what you see? Visit the ' +\n",
              "            '<a target=\"_blank\" href=https://colab.research.google.com/notebooks/data_table.ipynb>data table notebook</a>'\n",
              "            + ' to learn more about interactive tables.';\n",
              "          element.innerHTML = '';\n",
              "          dataTable['output_type'] = 'display_data';\n",
              "          await google.colab.output.renderOutput(dataTable, element);\n",
              "          const docLink = document.createElement('div');\n",
              "          docLink.innerHTML = docLinkHtml;\n",
              "          element.appendChild(docLink);\n",
              "        }\n",
              "      </script>\n",
              "    </div>\n",
              "  </div>\n",
              "  "
            ],
            "text/plain": [
              "   0  1\n",
              "0  0  1\n",
              "1  0  1\n",
              "2  0  1\n",
              "3  0  1\n",
              "4  0  1"
            ]
          },
          "metadata": {},
          "execution_count": 8
        }
      ]
    },
    {
      "cell_type": "markdown",
      "source": [
        "* Method 1: take the first 80% of rows"
      ],
      "metadata": {
        "id": "wMaK2AjhjQCW"
      },
      "id": "wMaK2AjhjQCW"
    },
    {
      "cell_type": "code",
      "execution_count": 12,
      "id": "f0673df1",
      "metadata": {
        "id": "f0673df1"
      },
      "outputs": [],
      "source": [
        "# train/test split (80%)\n",
        "b = int(0.8 * x_reshaped.shape[0])\n",
        "x_train = x_reshaped[:b,:,:]\n",
        "x_test = x_reshaped[b:,:,:]\n",
        "\n",
        "# train/test split\n",
        "y_train = y_categ.iloc[:b]\n",
        "y_test = y_categ.iloc[b:]"
      ]
    },
    {
      "cell_type": "markdown",
      "id": "c5ea9001",
      "metadata": {
        "id": "c5ea9001"
      },
      "source": [
        "* Method 2: use the `scikit-learn` library to create random splits "
      ]
    },
    {
      "cell_type": "code",
      "execution_count": 13,
      "id": "fe6056ce",
      "metadata": {
        "id": "fe6056ce"
      },
      "outputs": [],
      "source": [
        "from sklearn.model_selection import train_test_split"
      ]
    },
    {
      "cell_type": "code",
      "source": [
        "x_train, x_test, y_train, y_test = train_test_split(\n",
        "    x_reshaped, y_categ, train_size=train_size # 0.8\n",
        ")"
      ],
      "metadata": {
        "id": "DYBBG3Xji2e_"
      },
      "id": "DYBBG3Xji2e_",
      "execution_count": 14,
      "outputs": []
    },
    {
      "cell_type": "markdown",
      "id": "05eb33a9",
      "metadata": {
        "id": "05eb33a9"
      },
      "source": [
        "### Create NN Model\n",
        "\n",
        "Creates the 1D CNN model\n",
        "with 1 temporal dimension and depth 2 (for OOI and ZYG muscles)"
      ]
    },
    {
      "cell_type": "code",
      "source": [
        "from keras.models import Sequential\n",
        "from keras.layers import Dense, Activation, Dropout\n",
        "from keras.layers import Conv1D, MaxPooling1D, GlobalMaxPooling1D"
      ],
      "metadata": {
        "id": "jvVckGWVZ-RB"
      },
      "id": "jvVckGWVZ-RB",
      "execution_count": 15,
      "outputs": []
    },
    {
      "cell_type": "code",
      "source": [
        "model = Sequential()\n",
        "\n",
        "# Adding layers\n",
        "# input_shape should be [samples, time_steps, features]\n",
        "model.add(Conv1D(filters=40, kernel_size=(10), strides=(2), padding=\"same\", \n",
        "                 activation='relu', input_shape=(x_reshaped.shape[1],x_reshaped.shape[2])))\n",
        "model.add(Dropout(0.2))\n",
        "model.add(MaxPooling1D(pool_size=(3)))\n",
        "model.add(Conv1D(filters=32, kernel_size=5, strides=2, \n",
        "                 padding=\"same\", activation=\"relu\"))\n",
        "model.add(Dropout(0.2))\n",
        "model.add(GlobalMaxPooling1D())\n",
        "model.add(Dense(64, activation='relu'))\n",
        "model.add(Dropout(0.3))\n",
        "model.add(Dense(num_classes, activation='softmax'))"
      ],
      "metadata": {
        "id": "4aNtrfxdaBeI"
      },
      "id": "4aNtrfxdaBeI",
      "execution_count": 16,
      "outputs": []
    },
    {
      "cell_type": "code",
      "execution_count": 17,
      "id": "dee61de9",
      "metadata": {
        "colab": {
          "base_uri": "https://localhost:8080/"
        },
        "id": "dee61de9",
        "outputId": "75c052c7-358c-4127-8c0c-903ad1d3ce4e"
      },
      "outputs": [
        {
          "output_type": "stream",
          "name": "stdout",
          "text": [
            "Model: \"sequential\"\n",
            "_________________________________________________________________\n",
            " Layer (type)                Output Shape              Param #   \n",
            "=================================================================\n",
            " conv1d (Conv1D)             (None, 500, 40)           840       \n",
            "                                                                 \n",
            " dropout (Dropout)           (None, 500, 40)           0         \n",
            "                                                                 \n",
            " max_pooling1d (MaxPooling1D  (None, 166, 40)          0         \n",
            " )                                                               \n",
            "                                                                 \n",
            " conv1d_1 (Conv1D)           (None, 83, 32)            6432      \n",
            "                                                                 \n",
            " dropout_1 (Dropout)         (None, 83, 32)            0         \n",
            "                                                                 \n",
            " global_max_pooling1d (Globa  (None, 32)               0         \n",
            " lMaxPooling1D)                                                  \n",
            "                                                                 \n",
            " dense (Dense)               (None, 64)                2112      \n",
            "                                                                 \n",
            " dropout_2 (Dropout)         (None, 64)                0         \n",
            "                                                                 \n",
            " dense_1 (Dense)             (None, 2)                 130       \n",
            "                                                                 \n",
            "=================================================================\n",
            "Total params: 9,514\n",
            "Trainable params: 9,514\n",
            "Non-trainable params: 0\n",
            "_________________________________________________________________\n"
          ]
        }
      ],
      "source": [
        "model.summary()"
      ]
    },
    {
      "cell_type": "code",
      "execution_count": 18,
      "id": "1ee4298a",
      "metadata": {
        "lines_to_next_cell": 0,
        "id": "1ee4298a"
      },
      "outputs": [],
      "source": [
        "model.compile(loss='categorical_crossentropy',\n",
        "              optimizer='adam',\n",
        "              metrics=['accuracy'])"
      ]
    },
    {
      "cell_type": "code",
      "source": [
        "# x_train and y_train are Numpy arrays --just like in the Scikit-Learn API.\n",
        "history = model.fit(x_train, y_train, epochs=20, batch_size=10, validation_split=0.2)"
      ],
      "metadata": {
        "colab": {
          "base_uri": "https://localhost:8080/"
        },
        "id": "ERtZVkdYhtLs",
        "outputId": "769a751e-49d4-4d43-ba98-bac47f422f44"
      },
      "id": "ERtZVkdYhtLs",
      "execution_count": 19,
      "outputs": [
        {
          "output_type": "stream",
          "name": "stdout",
          "text": [
            "Epoch 1/20\n",
            "169/169 [==============================] - 3s 11ms/step - loss: 0.6906 - accuracy: 0.5364 - val_loss: 0.6841 - val_accuracy: 0.5556\n",
            "Epoch 2/20\n",
            "169/169 [==============================] - 2s 10ms/step - loss: 0.6701 - accuracy: 0.5968 - val_loss: 0.6494 - val_accuracy: 0.7116\n",
            "Epoch 3/20\n",
            "169/169 [==============================] - 2s 10ms/step - loss: 0.6271 - accuracy: 0.6803 - val_loss: 0.5911 - val_accuracy: 0.7612\n",
            "Epoch 4/20\n",
            "169/169 [==============================] - 2s 10ms/step - loss: 0.5655 - accuracy: 0.7395 - val_loss: 0.5382 - val_accuracy: 0.8061\n",
            "Epoch 5/20\n",
            "169/169 [==============================] - 2s 10ms/step - loss: 0.4991 - accuracy: 0.7946 - val_loss: 0.4691 - val_accuracy: 0.8558\n",
            "Epoch 6/20\n",
            "169/169 [==============================] - 2s 10ms/step - loss: 0.4497 - accuracy: 0.8105 - val_loss: 0.4215 - val_accuracy: 0.8392\n",
            "Epoch 7/20\n",
            "169/169 [==============================] - 2s 10ms/step - loss: 0.4246 - accuracy: 0.8265 - val_loss: 0.4091 - val_accuracy: 0.8369\n",
            "Epoch 8/20\n",
            "169/169 [==============================] - 2s 11ms/step - loss: 0.3942 - accuracy: 0.8271 - val_loss: 0.3932 - val_accuracy: 0.8534\n",
            "Epoch 9/20\n",
            "169/169 [==============================] - 2s 10ms/step - loss: 0.3845 - accuracy: 0.8425 - val_loss: 0.3734 - val_accuracy: 0.8700\n",
            "Epoch 10/20\n",
            "169/169 [==============================] - 2s 10ms/step - loss: 0.3585 - accuracy: 0.8478 - val_loss: 0.3609 - val_accuracy: 0.8723\n",
            "Epoch 11/20\n",
            "169/169 [==============================] - 2s 11ms/step - loss: 0.3439 - accuracy: 0.8603 - val_loss: 0.3793 - val_accuracy: 0.8771\n",
            "Epoch 12/20\n",
            "169/169 [==============================] - 2s 14ms/step - loss: 0.3475 - accuracy: 0.8514 - val_loss: 0.3417 - val_accuracy: 0.8676\n",
            "Epoch 13/20\n",
            "169/169 [==============================] - 2s 11ms/step - loss: 0.3139 - accuracy: 0.8680 - val_loss: 0.3372 - val_accuracy: 0.8747\n",
            "Epoch 14/20\n",
            "169/169 [==============================] - 2s 10ms/step - loss: 0.3198 - accuracy: 0.8692 - val_loss: 0.3514 - val_accuracy: 0.8605\n",
            "Epoch 15/20\n",
            "169/169 [==============================] - 2s 10ms/step - loss: 0.3099 - accuracy: 0.8721 - val_loss: 0.3251 - val_accuracy: 0.8865\n",
            "Epoch 16/20\n",
            "169/169 [==============================] - 2s 10ms/step - loss: 0.2787 - accuracy: 0.8976 - val_loss: 0.3364 - val_accuracy: 0.8558\n",
            "Epoch 17/20\n",
            "169/169 [==============================] - 2s 10ms/step - loss: 0.2758 - accuracy: 0.8893 - val_loss: 0.3381 - val_accuracy: 0.8605\n",
            "Epoch 18/20\n",
            "169/169 [==============================] - 2s 10ms/step - loss: 0.2812 - accuracy: 0.8887 - val_loss: 0.3068 - val_accuracy: 0.8723\n",
            "Epoch 19/20\n",
            "169/169 [==============================] - 2s 10ms/step - loss: 0.2399 - accuracy: 0.9112 - val_loss: 0.3445 - val_accuracy: 0.8582\n",
            "Epoch 20/20\n",
            "169/169 [==============================] - 2s 10ms/step - loss: 0.2691 - accuracy: 0.8917 - val_loss: 0.3879 - val_accuracy: 0.8463\n"
          ]
        }
      ]
    },
    {
      "cell_type": "markdown",
      "id": "10516cc8",
      "metadata": {
        "id": "10516cc8"
      },
      "source": [
        "* validation accuracy is around 75% just using the OOI...\n",
        "* validation accuracy is around 80% when using both the OOI and the ZYG...\n",
        "* validation accuracy is around 80% when using all four facial muscles (OOI, ZYG, COR, FRO)...\n",
        "* NB: it was 0.848 [0.816, 0.877] using random forest and all four facial muscles..."
      ]
    },
    {
      "cell_type": "code",
      "source": [
        "# plots evolution of accuracy and loss (categorical cross-entropy)\n",
        "print(history.history.keys())\n",
        "\n",
        "fig = plt.figure(figsize = (12,8))\n",
        "# summarize history for accuracy\n",
        "plt.plot(history.history['accuracy'])\n",
        "plt.plot(history.history['val_accuracy'])\n",
        "plt.title('model accuracy')\n",
        "plt.ylabel('accuracy')\n",
        "plt.xlabel('epoch')\n",
        "plt.legend(['train', 'test'], loc='upper left')\n",
        "plt.show()\n",
        "\n",
        "fig = plt.figure(figsize = (12,8))\n",
        "# summarize history for loss\n",
        "plt.plot(history.history['loss'])\n",
        "plt.plot(history.history['val_loss'])\n",
        "plt.title('model loss')\n",
        "plt.ylabel('loss')\n",
        "plt.xlabel('epoch')\n",
        "plt.legend(['train', 'test'], loc='upper left')\n",
        "plt.show()"
      ],
      "metadata": {
        "colab": {
          "base_uri": "https://localhost:8080/",
          "height": 1000
        },
        "id": "GUg33foKpmzf",
        "outputId": "d8adda1d-8e3f-46f9-e5e3-464dba84ce2d"
      },
      "id": "GUg33foKpmzf",
      "execution_count": 20,
      "outputs": [
        {
          "output_type": "stream",
          "name": "stdout",
          "text": [
            "dict_keys(['loss', 'accuracy', 'val_loss', 'val_accuracy'])\n"
          ]
        },
        {
          "output_type": "display_data",
          "data": {
            "image/png": "[encoded data removed]",
            "text/plain": [
              "<Figure size 864x576 with 1 Axes>"
            ]
          },
          "metadata": {
            "needs_background": "light"
          }
        },
        {
          "output_type": "display_data",
          "data": {
            "image/png": "[encoded data removed]",
            "text/plain": [
              "<Figure size 864x576 with 1 Axes>"
            ]
          },
          "metadata": {
            "needs_background": "light"
          }
        }
      ]
    },
    {
      "cell_type": "markdown",
      "source": [
        "Note: visualisation easier with R"
      ],
      "metadata": {
        "id": "UXulEhYNvkx9"
      },
      "id": "UXulEhYNvkx9"
    },
    {
      "cell_type": "markdown",
      "source": [
        "### Evaluation"
      ],
      "metadata": {
        "id": "spS7lYMZprNj"
      },
      "id": "spS7lYMZprNj"
    },
    {
      "cell_type": "code",
      "execution_count": 21,
      "id": "a62d4051",
      "metadata": {
        "colab": {
          "base_uri": "https://localhost:8080/"
        },
        "id": "a62d4051",
        "outputId": "f9f014fb-92b8-49d5-c0fe-62f98480c725"
      },
      "outputs": [
        {
          "output_type": "stream",
          "name": "stdout",
          "text": [
            "17/17 [==============================] - 0s 5ms/step - loss: 0.3568 - accuracy: 0.8617\n"
          ]
        },
        {
          "output_type": "execute_result",
          "data": {
            "text/plain": [
              "[0.3567683696746826, 0.8617424368858337]"
            ]
          },
          "metadata": {},
          "execution_count": 21
        }
      ],
      "source": [
        "# evaluating the model's predictions\n",
        "model.evaluate(x_test, y_test)"
      ]
    },
    {
      "cell_type": "code",
      "source": [
        "# makes predictions as probabilities and take the highr probability class\n",
        "y_pred = model.predict(x_test).argmax(axis=-1)"
      ],
      "metadata": {
        "id": "KH7cSxMypYDh"
      },
      "id": "KH7cSxMypYDh",
      "execution_count": 39,
      "outputs": []
    },
    {
      "cell_type": "code",
      "source": [
        " from sklearn.metrics import confusion_matrix, ConfusionMatrixDisplay"
      ],
      "metadata": {
        "id": "YfP5NYQ4epH4"
      },
      "id": "YfP5NYQ4epH4",
      "execution_count": 41,
      "outputs": []
    },
    {
      "cell_type": "code",
      "source": [
        "# confusion matrix\n",
        "fig, ax = plt.subplots(figsize=(6,6))\n",
        "cm = confusion_matrix(y_test[1], y_pred, normalize='true')\n",
        "disp = ConfusionMatrixDisplay(confusion_matrix=cm, display_labels=range(0,10))\n",
        "disp.plot(cmap='viridis', ax=ax)"
      ],
      "metadata": {
        "colab": {
          "base_uri": "https://localhost:8080/",
          "height": 376
        },
        "id": "nPTCFGJ7p6ny",
        "outputId": "c56a3ef9-1786-4129-e6ae-6c5694fe7c88"
      },
      "id": "nPTCFGJ7p6ny",
      "execution_count": 40,
      "outputs": [
        {
          "output_type": "execute_result",
          "data": {
            "text/plain": [
              "<sklearn.metrics._plot.confusion_matrix.ConfusionMatrixDisplay at 0x7fdbe47556d0>"
            ]
          },
          "metadata": {},
          "execution_count": 40
        },
        {
          "output_type": "display_data",
          "data": {
            "image/png": "[encoded data removed]",
            "text/plain": [
              "<Figure size 432x432 with 2 Axes>"
            ]
          },
          "metadata": {
            "needs_background": "light"
          }
        }
      ]
    },
    {
      "cell_type": "markdown",
      "source": [
        "### Save / Load models"
      ],
      "metadata": {
        "id": "kHLoF2tIrfiP"
      },
      "id": "kHLoF2tIrfiP"
    },
    {
      "cell_type": "code",
      "source": [
        "from keras.models import Sequential, load_model, model_from_json\n",
        "import json"
      ],
      "metadata": {
        "id": "LZ1y9D34renb"
      },
      "id": "LZ1y9D34renb",
      "execution_count": 42,
      "outputs": []
    },
    {
      "cell_type": "code",
      "source": [
        "# saves the entire model\n",
        "model.save(\"emg_1d_cnn_model_overt.h5\")\n",
        "loaded_model = load_model(\"emg_1d_cnn_model_overt.h5\")\n",
        "\n",
        "# saves JSON config\n",
        "json_string = model.to_json()\n",
        "with open(\"emg_1d_cnn_model_config_overt.json\", 'w') as outfile:\n",
        "    outfile.write(json_string)"
      ],
      "metadata": {
        "id": "HbTEre6Lqf3H"
      },
      "id": "HbTEre6Lqf3H",
      "execution_count": 45,
      "outputs": []
    },
    {
      "cell_type": "code",
      "source": [
        ""
      ],
      "metadata": {
        "id": "UdA_reS4e1lb"
      },
      "id": "UdA_reS4e1lb",
      "execution_count": null,
      "outputs": []
    }
  ],
  "metadata": {
    "interpreter": {
      "hash": "f428e01e68f10a57fcbb6100464c15989687093714b167b0199eb38bc6b8c979"
    },
    "jupytext": {
      "cell_metadata_filter": "-all",
      "main_language": "R",
      "notebook_metadata_filter": "-all"
    },
    "kernelspec": {
      "display_name": "Python 3.7.6 64-bit ('base': conda)",
      "language": "python",
      "name": "python3"
    },
    "language_info": {
      "codemirror_mode": {
        "name": "ipython",
        "version": 3
      },
      "file_extension": ".py",
      "mimetype": "text/x-python",
      "name": "python",
      "nbconvert_exporter": "python",
      "pygments_lexer": "ipython3",
      "version": "3.7.6"
    },
    "colab": {
      "name": "emg_classification.ipynb",
      "provenance": [],
      "collapsed_sections": []
    }
  },
  "nbformat": 4,
  "nbformat_minor": 5
}