{
  "nbformat": 4,
  "nbformat_minor": 0,
  "metadata": {
    "colab": {
      "name": "emg_classification_r.ipynb",
      "provenance": [],
      "collapsed_sections": [],
      "authorship_tag": "ABX9TyNPM+qr9kYbT4awajT5GAWT",
      "include_colab_link": true
    },
    "kernelspec": {
      "name": "ir",
      "display_name": "R"
    },
    "language_info": {
      "name": "R"
    }
  },
  "cells": [
    {
      "cell_type": "markdown",
      "metadata": {
        "id": "view-in-github",
        "colab_type": "text"
      },
      "source": [
        "<a href=\"https://colab.research.google.com/github/lnalborczyk/ilcb_deep_learning_2022/blob/master/emg_classification_r.ipynb\" target=\"_parent\"><img src=\"https://colab.research.google.com/assets/colab-badge.svg\" alt=\"Open In Colab\"/></a>"
      ]
    },
    {
      "cell_type": "markdown",
      "source": [
        "# Classifying surface EMG signals using 1D convolutionnal neural networks\n",
        "\n",
        "Written by Ladislas Nalborczyk (LPC, LNC, CNRS, AMU). Last updated on February 22, 2022."
      ],
      "metadata": {
        "id": "8-wdszXPFGRP"
      }
    },
    {
      "cell_type": "code",
      "source": [
        "# installing tensorflow\n",
        "install.packages(\"tensorflow\")\n",
        "library(tensorflow)\n",
        "# install_tensorflow()\n",
        "\n",
        "# installing keras\n",
        "install.packages(\"keras\")\n",
        "library(keras)\n",
        "# install_keras()\n",
        "\n",
        "# loading the tidyverse package (data wrangling and plotting)\n",
        "library(tidyverse)"
      ],
      "metadata": {
        "colab": {
          "base_uri": "https://localhost:8080/"
        },
        "id": "h52Ud7HxEiw9",
        "outputId": "6a3089e0-688a-4176-9917-6c9ffdf8a7ba"
      },
      "execution_count": 7,
      "outputs": [
        {
          "output_type": "stream",
          "name": "stderr",
          "text": [
            "Installing package into ‘/usr/local/lib/R/site-library’\n",
            "(as ‘lib’ is unspecified)\n",
            "\n",
            "Installing package into ‘/usr/local/lib/R/site-library’\n",
            "(as ‘lib’ is unspecified)\n",
            "\n",
            "also installing the dependency ‘zeallot’\n",
            "\n",
            "\n"
          ]
        }
      ]
    },
    {
      "cell_type": "code",
      "source": [
        "########################################\n",
        "# importing data\n",
        "##############################\n",
        "\n",
        "# loading input features\n",
        "# x_reshaped <- readRDS(\"./data/x.rds\")\n",
        "x_reshaped <- readRDS(url(\"https://github.com/lnalborczyk/ilcb_deep_learning_2022/data/x.rds\", \"rb\") )\n",
        "\n",
        "# (6 reps x 20 words x 22 participants) x 1 sec x 2 muscles\n",
        "dim(x_reshaped)\n",
        "\n",
        "# loading labels\n",
        "# y <- readRDS(\"data/y.rds\")\n",
        "\n",
        "# 6 reps x 20 words x 22 participants\n",
        "# length(y)"
      ],
      "metadata": {
        "colab": {
          "base_uri": "https://localhost:8080/",
          "height": 232
        },
        "id": "oAr0rotWFYU3",
        "outputId": "0a7f2acc-fd97-4274-a3c8-57b0e0b21021"
      },
      "execution_count": 19,
      "outputs": [
        {
          "output_type": "stream",
          "name": "stderr",
          "text": [
            "Warning message in url(\"https://github.com/lnalborczyk/ilcb_deep_learning_2022/data/x.rds\", :\n",
            "“cannot open URL 'https://github.com/lnalborczyk/ilcb_deep_learning_2022/data/x.rds': HTTP status was '404 Not Found'”\n"
          ]
        },
        {
          "output_type": "error",
          "ename": "ERROR",
          "evalue": "ignored",
          "traceback": [
            "Error in url(\"https://github.com/lnalborczyk/ilcb_deep_learning_2022/data/x.rds\", : cannot open the connection to 'https://github.com/lnalborczyk/ilcb_deep_learning_2022/data/x.rds'\nTraceback:\n",
            "1. readRDS(url(\"https://github.com/lnalborczyk/ilcb_deep_learning_2022/data/x.rds\", \n .     \"rb\"))",
            "2. url(\"https://github.com/lnalborczyk/ilcb_deep_learning_2022/data/x.rds\", \n .     \"rb\")"
          ]
        }
      ]
    },
    {
      "cell_type": "code",
      "source": [
        "url()"
      ],
      "metadata": {
        "colab": {
          "base_uri": "https://localhost:8080/",
          "height": 130
        },
        "id": "FhJ8uXD5Gr99",
        "outputId": "65444fed-2a5a-4eb1-c24c-a01d0ce5ac63"
      },
      "execution_count": 12,
      "outputs": [
        {
          "output_type": "error",
          "ename": "ERROR",
          "evalue": "ignored",
          "traceback": [
            "Error in url(): argument \"description\" is missing, with no default\nTraceback:\n",
            "1. url()"
          ]
        }
      ]
    },
    {
      "cell_type": "code",
      "source": [
        "help(url)"
      ],
      "metadata": {
        "id": "irCi4Y3iHcF3"
      },
      "execution_count": 14,
      "outputs": []
    },
    {
      "cell_type": "code",
      "source": [
        ""
      ],
      "metadata": {
        "id": "0lXGkyViHdJM"
      },
      "execution_count": null,
      "outputs": []
    }
  ]
}