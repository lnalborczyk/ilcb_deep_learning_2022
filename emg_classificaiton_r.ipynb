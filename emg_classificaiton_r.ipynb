{
  "nbformat": 4,
  "nbformat_minor": 0,
  "metadata": {
    "colab": {
      "name": "emg_classificaiton_r.ipynb",
      "provenance": [],
      "collapsed_sections": [],
      "authorship_tag": "ABX9TyNu7zGW7IaKrsx4mziqfrCa",
      "include_colab_link": true
    },
    "kernelspec": {
      "name": "ir",
      "display_name": "R"
    },
    "language_info": {
      "name": "R"
    }
  },
  "cells": [
    {
      "cell_type": "markdown",
      "metadata": {
        "id": "view-in-github",
        "colab_type": "text"
      },
      "source": [
        "<a href=\"https://colab.research.google.com/github/lnalborczyk/ilcb_deep_learning_2022/blob/master/emg_classificaiton_r.ipynb\" target=\"_parent\"><img src=\"https://colab.research.google.com/assets/colab-badge.svg\" alt=\"Open In Colab\"/></a>"
      ]
    },
    {
      "cell_type": "markdown",
      "source": [
        "# Classifying surface EMG signals using 1D convolutionnal neural networks\n",
        "\n",
        "Written by Ladislas Nalborczyk (LPC, LNC, CNRS, AMU). Last updated on February 22, 2022."
      ],
      "metadata": {
        "id": "8-wdszXPFGRP"
      }
    },
    {
      "cell_type": "code",
      "source": [
        "# installing tensorflow\n",
        "install.packages(\"tensorflow\")\n",
        "library(tensorflow)\n",
        "install_tensorflow()\n",
        "\n",
        "# installing keras\n",
        "# install.packages(\"keras\")\n",
        "# library(keras)\n",
        "# install_keras()\n",
        "\n",
        "# loading the tidyverse package (data wrangling and plotting)\n",
        "# library(tidyverse)"
      ],
      "metadata": {
        "colab": {
          "base_uri": "https://localhost:8080/",
          "height": 300
        },
        "id": "h52Ud7HxEiw9",
        "outputId": "fdd2c3ab-fa16-4fd8-c372-48f942610444"
      },
      "execution_count": 4,
      "outputs": [
        {
          "output_type": "stream",
          "name": "stderr",
          "text": [
            "Installing package into ‘/usr/local/lib/R/site-library’\n",
            "(as ‘lib’ is unspecified)\n",
            "\n"
          ]
        },
        {
          "output_type": "error",
          "ename": "ERROR",
          "evalue": "ignored",
          "traceback": [
            "Error in virtualenv_install(envname = envname, packages = packages, ignore_installed = pip_ignore_installed, : '/usr/bin' exists but is not a virtual environment\nTraceback:\n",
            "1. install_tensorflow()",
            "2. reticulate::py_install(packages = packages, envname = envname, \n .     method = method, conda = conda, python_version = python_version, \n .     pip = TRUE, pip_ignore_installed = pip_ignore_installed, \n .     ...)",
            "3. virtualenv_install(envname = envname, packages = packages, ignore_installed = pip_ignore_installed, \n .     ...)",
            "4. stop(sprintf(fmt, name))"
          ]
        }
      ]
    },
    {
      "cell_type": "code",
      "source": [
        ""
      ],
      "metadata": {
        "id": "oAr0rotWFYU3"
      },
      "execution_count": null,
      "outputs": []
    }
  ]
}